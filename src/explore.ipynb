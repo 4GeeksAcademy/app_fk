{
    "cells": [
        {
            "cell_type": "markdown",
            "metadata": {},
            "source": [
                "# Explore here"
            ]
        },
        {
            "cell_type": "code",
            "execution_count": 1,
            "metadata": {},
            "outputs": [
                {
                    "name": "stdout",
                    "output_type": "stream",
                    "text": [
                        "{'encoding': 'ISO-8859-1', 'confidence': 0.73, 'language': ''}\n"
                    ]
                }
            ],
            "source": [
                "import pandas as pd\n",
                "import chardet\n",
                "with open(\"/workspaces/app_fk/data/tasa_vih_edad_2014-2023_4.csv\", 'rb') as f:\n",
                "       result = chardet.detect(f.read())\n",
                "       print(result)\n"
            ]
        },
        {
            "cell_type": "code",
            "execution_count": 2,
            "metadata": {},
            "outputs": [
                {
                    "data": {
                        "text/html": [
                            "<div>\n",
                            "<style scoped>\n",
                            "    .dataframe tbody tr th:only-of-type {\n",
                            "        vertical-align: middle;\n",
                            "    }\n",
                            "\n",
                            "    .dataframe tbody tr th {\n",
                            "        vertical-align: top;\n",
                            "    }\n",
                            "\n",
                            "    .dataframe thead th {\n",
                            "        text-align: right;\n",
                            "    }\n",
                            "</style>\n",
                            "<table border=\"1\" class=\"dataframe\">\n",
                            "  <thead>\n",
                            "    <tr style=\"text-align: right;\">\n",
                            "      <th></th>\n",
                            "      <th>id_sexo</th>\n",
                            "      <th>sexo</th>\n",
                            "      <th>id_grupo_etario</th>\n",
                            "      <th>grupo_etario</th>\n",
                            "      <th>anio</th>\n",
                            "      <th>tasa_vih</th>\n",
                            "    </tr>\n",
                            "  </thead>\n",
                            "  <tbody>\n",
                            "    <tr>\n",
                            "      <th>0</th>\n",
                            "      <td>3</td>\n",
                            "      <td>Ambos sexos</td>\n",
                            "      <td>10</td>\n",
                            "      <td>total_grupo</td>\n",
                            "      <td>2014</td>\n",
                            "      <td>15,6</td>\n",
                            "    </tr>\n",
                            "    <tr>\n",
                            "      <th>1</th>\n",
                            "      <td>3</td>\n",
                            "      <td>Ambos sexos</td>\n",
                            "      <td>10</td>\n",
                            "      <td>total_grupo</td>\n",
                            "      <td>2015</td>\n",
                            "      <td>15,6</td>\n",
                            "    </tr>\n",
                            "    <tr>\n",
                            "      <th>2</th>\n",
                            "      <td>3</td>\n",
                            "      <td>Ambos sexos</td>\n",
                            "      <td>10</td>\n",
                            "      <td>total_grupo</td>\n",
                            "      <td>2016</td>\n",
                            "      <td>14,6</td>\n",
                            "    </tr>\n",
                            "    <tr>\n",
                            "      <th>3</th>\n",
                            "      <td>3</td>\n",
                            "      <td>Ambos sexos</td>\n",
                            "      <td>10</td>\n",
                            "      <td>total_grupo</td>\n",
                            "      <td>2017</td>\n",
                            "      <td>11,8</td>\n",
                            "    </tr>\n",
                            "    <tr>\n",
                            "      <th>4</th>\n",
                            "      <td>3</td>\n",
                            "      <td>Ambos sexos</td>\n",
                            "      <td>10</td>\n",
                            "      <td>total_grupo</td>\n",
                            "      <td>2018</td>\n",
                            "      <td>13,6</td>\n",
                            "    </tr>\n",
                            "  </tbody>\n",
                            "</table>\n",
                            "</div>"
                        ],
                        "text/plain": [
                            "   id_sexo         sexo  id_grupo_etario grupo_etario  anio tasa_vih\n",
                            "0        3  Ambos sexos               10  total_grupo  2014     15,6\n",
                            "1        3  Ambos sexos               10  total_grupo  2015     15,6\n",
                            "2        3  Ambos sexos               10  total_grupo  2016     14,6\n",
                            "3        3  Ambos sexos               10  total_grupo  2017     11,8\n",
                            "4        3  Ambos sexos               10  total_grupo  2018     13,6"
                        ]
                    },
                    "execution_count": 2,
                    "metadata": {},
                    "output_type": "execute_result"
                }
            ],
            "source": [
                "total_data = pd.read_csv(\"/workspaces/app_fk/data/tasa_vih_edad_2014-2023_4.csv\", encoding='ISO-8859-1', sep = \";\")\n",
                "total_data.head()"
            ]
        },
        {
            "cell_type": "code",
            "execution_count": 3,
            "metadata": {},
            "outputs": [
                {
                    "name": "stdout",
                    "output_type": "stream",
                    "text": [
                        "<class 'pandas.core.frame.DataFrame'>\n",
                        "RangeIndex: 300 entries, 0 to 299\n",
                        "Data columns (total 6 columns):\n",
                        " #   Column           Non-Null Count  Dtype \n",
                        "---  ------           --------------  ----- \n",
                        " 0   id_sexo          300 non-null    int64 \n",
                        " 1   sexo             300 non-null    object\n",
                        " 2   id_grupo_etario  300 non-null    int64 \n",
                        " 3   grupo_etario     300 non-null    object\n",
                        " 4   anio             300 non-null    int64 \n",
                        " 5   tasa_vih         300 non-null    object\n",
                        "dtypes: int64(3), object(3)\n",
                        "memory usage: 14.2+ KB\n"
                    ]
                }
            ],
            "source": [
                "total_data.info()"
            ]
        },
        {
            "cell_type": "code",
            "execution_count": 4,
            "metadata": {},
            "outputs": [
                {
                    "data": {
                        "text/plain": [
                            "(300, 6)"
                        ]
                    },
                    "execution_count": 4,
                    "metadata": {},
                    "output_type": "execute_result"
                }
            ],
            "source": [
                "total_data.shape"
            ]
        },
        {
            "cell_type": "code",
            "execution_count": 5,
            "metadata": {},
            "outputs": [
                {
                    "name": "stdout",
                    "output_type": "stream",
                    "text": [
                        "(300, 6)\n"
                    ]
                },
                {
                    "data": {
                        "text/html": [
                            "<div>\n",
                            "<style scoped>\n",
                            "    .dataframe tbody tr th:only-of-type {\n",
                            "        vertical-align: middle;\n",
                            "    }\n",
                            "\n",
                            "    .dataframe tbody tr th {\n",
                            "        vertical-align: top;\n",
                            "    }\n",
                            "\n",
                            "    .dataframe thead th {\n",
                            "        text-align: right;\n",
                            "    }\n",
                            "</style>\n",
                            "<table border=\"1\" class=\"dataframe\">\n",
                            "  <thead>\n",
                            "    <tr style=\"text-align: right;\">\n",
                            "      <th></th>\n",
                            "      <th>id_sexo</th>\n",
                            "      <th>sexo</th>\n",
                            "      <th>id_grupo_etario</th>\n",
                            "      <th>grupo_etario</th>\n",
                            "      <th>anio</th>\n",
                            "      <th>tasa_vih</th>\n",
                            "    </tr>\n",
                            "  </thead>\n",
                            "  <tbody>\n",
                            "    <tr>\n",
                            "      <th>0</th>\n",
                            "      <td>3</td>\n",
                            "      <td>Ambos sexos</td>\n",
                            "      <td>10</td>\n",
                            "      <td>total_grupo</td>\n",
                            "      <td>2014</td>\n",
                            "      <td>15,6</td>\n",
                            "    </tr>\n",
                            "    <tr>\n",
                            "      <th>1</th>\n",
                            "      <td>3</td>\n",
                            "      <td>Ambos sexos</td>\n",
                            "      <td>10</td>\n",
                            "      <td>total_grupo</td>\n",
                            "      <td>2015</td>\n",
                            "      <td>15,6</td>\n",
                            "    </tr>\n",
                            "    <tr>\n",
                            "      <th>2</th>\n",
                            "      <td>3</td>\n",
                            "      <td>Ambos sexos</td>\n",
                            "      <td>10</td>\n",
                            "      <td>total_grupo</td>\n",
                            "      <td>2016</td>\n",
                            "      <td>14,6</td>\n",
                            "    </tr>\n",
                            "    <tr>\n",
                            "      <th>3</th>\n",
                            "      <td>3</td>\n",
                            "      <td>Ambos sexos</td>\n",
                            "      <td>10</td>\n",
                            "      <td>total_grupo</td>\n",
                            "      <td>2017</td>\n",
                            "      <td>11,8</td>\n",
                            "    </tr>\n",
                            "    <tr>\n",
                            "      <th>4</th>\n",
                            "      <td>3</td>\n",
                            "      <td>Ambos sexos</td>\n",
                            "      <td>10</td>\n",
                            "      <td>total_grupo</td>\n",
                            "      <td>2018</td>\n",
                            "      <td>13,6</td>\n",
                            "    </tr>\n",
                            "  </tbody>\n",
                            "</table>\n",
                            "</div>"
                        ],
                        "text/plain": [
                            "   id_sexo         sexo  id_grupo_etario grupo_etario  anio tasa_vih\n",
                            "0        3  Ambos sexos               10  total_grupo  2014     15,6\n",
                            "1        3  Ambos sexos               10  total_grupo  2015     15,6\n",
                            "2        3  Ambos sexos               10  total_grupo  2016     14,6\n",
                            "3        3  Ambos sexos               10  total_grupo  2017     11,8\n",
                            "4        3  Ambos sexos               10  total_grupo  2018     13,6"
                        ]
                    },
                    "execution_count": 5,
                    "metadata": {},
                    "output_type": "execute_result"
                }
            ],
            "source": [
                "if total_data.duplicated().sum():\n",
                "    total_data = total_data.drop_duplicates()\n",
                "print(total_data.shape)\n",
                "total_data.head()"
            ]
        },
        {
            "cell_type": "code",
            "execution_count": 6,
            "metadata": {},
            "outputs": [
                {
                    "data": {
                        "text/html": [
                            "<div>\n",
                            "<style scoped>\n",
                            "    .dataframe tbody tr th:only-of-type {\n",
                            "        vertical-align: middle;\n",
                            "    }\n",
                            "\n",
                            "    .dataframe tbody tr th {\n",
                            "        vertical-align: top;\n",
                            "    }\n",
                            "\n",
                            "    .dataframe thead th {\n",
                            "        text-align: right;\n",
                            "    }\n",
                            "</style>\n",
                            "<table border=\"1\" class=\"dataframe\">\n",
                            "  <thead>\n",
                            "    <tr style=\"text-align: right;\">\n",
                            "      <th></th>\n",
                            "      <th>sexo</th>\n",
                            "      <th>grupo_etario</th>\n",
                            "      <th>anio</th>\n",
                            "      <th>tasa_vih</th>\n",
                            "    </tr>\n",
                            "  </thead>\n",
                            "  <tbody>\n",
                            "    <tr>\n",
                            "      <th>0</th>\n",
                            "      <td>Ambos sexos</td>\n",
                            "      <td>total_grupo</td>\n",
                            "      <td>2014</td>\n",
                            "      <td>15,6</td>\n",
                            "    </tr>\n",
                            "    <tr>\n",
                            "      <th>1</th>\n",
                            "      <td>Ambos sexos</td>\n",
                            "      <td>total_grupo</td>\n",
                            "      <td>2015</td>\n",
                            "      <td>15,6</td>\n",
                            "    </tr>\n",
                            "    <tr>\n",
                            "      <th>2</th>\n",
                            "      <td>Ambos sexos</td>\n",
                            "      <td>total_grupo</td>\n",
                            "      <td>2016</td>\n",
                            "      <td>14,6</td>\n",
                            "    </tr>\n",
                            "    <tr>\n",
                            "      <th>3</th>\n",
                            "      <td>Ambos sexos</td>\n",
                            "      <td>total_grupo</td>\n",
                            "      <td>2017</td>\n",
                            "      <td>11,8</td>\n",
                            "    </tr>\n",
                            "    <tr>\n",
                            "      <th>4</th>\n",
                            "      <td>Ambos sexos</td>\n",
                            "      <td>total_grupo</td>\n",
                            "      <td>2018</td>\n",
                            "      <td>13,6</td>\n",
                            "    </tr>\n",
                            "  </tbody>\n",
                            "</table>\n",
                            "</div>"
                        ],
                        "text/plain": [
                            "          sexo grupo_etario  anio tasa_vih\n",
                            "0  Ambos sexos  total_grupo  2014     15,6\n",
                            "1  Ambos sexos  total_grupo  2015     15,6\n",
                            "2  Ambos sexos  total_grupo  2016     14,6\n",
                            "3  Ambos sexos  total_grupo  2017     11,8\n",
                            "4  Ambos sexos  total_grupo  2018     13,6"
                        ]
                    },
                    "execution_count": 6,
                    "metadata": {},
                    "output_type": "execute_result"
                }
            ],
            "source": [
                "total_data.drop([\"id_sexo\", \"id_grupo_etario\"], axis = 1, inplace = True)\n",
                "total_data.head()"
            ]
        },
        {
            "cell_type": "code",
            "execution_count": 7,
            "metadata": {},
            "outputs": [
                {
                    "name": "stdout",
                    "output_type": "stream",
                    "text": [
                        "['Ambos sexos' 'Mujeres' 'Varones']\n",
                        "['total_grupo' '0 - 9' '10 - 14' '15 - 19' '20 - 24' '25 - 34' '35 - 44'\n",
                        " '45 - 54' '55 - 64' '65 o m\\xa0s']\n"
                    ]
                }
            ],
            "source": [
                "print(total_data['sexo'].unique())\n",
                "print(total_data['grupo_etario'].unique())"
            ]
        },
        {
            "cell_type": "code",
            "execution_count": 11,
            "metadata": {},
            "outputs": [
                {
                    "name": "stdout",
                    "output_type": "stream",
                    "text": [
                        "          sexo  sexo_codificado\n",
                        "0  ambos sexos                2\n",
                        "1  ambos sexos                2\n",
                        "2  ambos sexos                2\n",
                        "3  ambos sexos                2\n",
                        "4  ambos sexos                2\n"
                    ]
                }
            ],
            "source": [
                "\n",
                "\n",
                "total_data.columns = total_data.columns.str.strip()\n",
                "total_data.head()\n",
                "mapeo_binario = {\n",
                "    'mujeres': 1,\n",
                "    'varones': 0,\n",
                "    'ambos sexos': 2  \n",
                "}\n",
                "total_data['sexo_codificado'] = total_data['sexo'].map(mapeo_binario)\n",
                "print(total_data[['sexo', 'sexo_codificado']].head())\n",
                "\n"
            ]
        },
        {
            "cell_type": "code",
            "execution_count": 9,
            "metadata": {},
            "outputs": [
                {
                    "ename": "KeyError",
                    "evalue": "'Gender'",
                    "output_type": "error",
                    "traceback": [
                        "\u001b[31m---------------------------------------------------------------------------\u001b[39m",
                        "\u001b[31mKeyError\u001b[39m                                  Traceback (most recent call last)",
                        "\u001b[36mFile \u001b[39m\u001b[32m/workspaces/app_fk/.venv/lib/python3.11/site-packages/pandas/core/indexes/base.py:3812\u001b[39m, in \u001b[36mIndex.get_loc\u001b[39m\u001b[34m(self, key)\u001b[39m\n\u001b[32m   3811\u001b[39m \u001b[38;5;28;01mtry\u001b[39;00m:\n\u001b[32m-> \u001b[39m\u001b[32m3812\u001b[39m     \u001b[38;5;28;01mreturn\u001b[39;00m \u001b[38;5;28;43mself\u001b[39;49m\u001b[43m.\u001b[49m\u001b[43m_engine\u001b[49m\u001b[43m.\u001b[49m\u001b[43mget_loc\u001b[49m\u001b[43m(\u001b[49m\u001b[43mcasted_key\u001b[49m\u001b[43m)\u001b[49m\n\u001b[32m   3813\u001b[39m \u001b[38;5;28;01mexcept\u001b[39;00m \u001b[38;5;167;01mKeyError\u001b[39;00m \u001b[38;5;28;01mas\u001b[39;00m err:\n",
                        "\u001b[36mFile \u001b[39m\u001b[32mpandas/_libs/index.pyx:167\u001b[39m, in \u001b[36mpandas._libs.index.IndexEngine.get_loc\u001b[39m\u001b[34m()\u001b[39m\n",
                        "\u001b[36mFile \u001b[39m\u001b[32mpandas/_libs/index.pyx:196\u001b[39m, in \u001b[36mpandas._libs.index.IndexEngine.get_loc\u001b[39m\u001b[34m()\u001b[39m\n",
                        "\u001b[36mFile \u001b[39m\u001b[32mpandas/_libs/hashtable_class_helper.pxi:7088\u001b[39m, in \u001b[36mpandas._libs.hashtable.PyObjectHashTable.get_item\u001b[39m\u001b[34m()\u001b[39m\n",
                        "\u001b[36mFile \u001b[39m\u001b[32mpandas/_libs/hashtable_class_helper.pxi:7096\u001b[39m, in \u001b[36mpandas._libs.hashtable.PyObjectHashTable.get_item\u001b[39m\u001b[34m()\u001b[39m\n",
                        "\u001b[31mKeyError\u001b[39m: 'Gender'",
                        "\nThe above exception was the direct cause of the following exception:\n",
                        "\u001b[31mKeyError\u001b[39m                                  Traceback (most recent call last)",
                        "\u001b[36mCell\u001b[39m\u001b[36m \u001b[39m\u001b[32mIn[9]\u001b[39m\u001b[32m, line 1\u001b[39m\n\u001b[32m----> \u001b[39m\u001b[32m1\u001b[39m total_data[\u001b[33m'\u001b[39m\u001b[33mGender\u001b[39m\u001b[33m'\u001b[39m] = \u001b[43mtotal_data\u001b[49m\u001b[43m[\u001b[49m\u001b[33;43m'\u001b[39;49m\u001b[33;43mGender\u001b[39;49m\u001b[33;43m'\u001b[39;49m\u001b[43m]\u001b[49m.map({\n\u001b[32m      2\u001b[39m     \u001b[33m'\u001b[39m\u001b[33mmale\u001b[39m\u001b[33m'\u001b[39m: \u001b[38;5;28;01mTrue\u001b[39;00m,\n\u001b[32m      3\u001b[39m     \u001b[33m'\u001b[39m\u001b[33mfemale\u001b[39m\u001b[33m'\u001b[39m: \u001b[38;5;28;01mFalse\u001b[39;00m\n\u001b[32m      4\u001b[39m })\n\u001b[32m      6\u001b[39m total_data[\u001b[33m'\u001b[39m\u001b[33mAdmission Status\u001b[39m\u001b[33m'\u001b[39m] = total_data[\u001b[33m'\u001b[39m\u001b[33mAdmission Status\u001b[39m\u001b[33m'\u001b[39m].map({\n\u001b[32m      7\u001b[39m     \u001b[33m'\u001b[39m\u001b[33madmitted\u001b[39m\u001b[33m'\u001b[39m: \u001b[38;5;28;01mTrue\u001b[39;00m,\n\u001b[32m      8\u001b[39m     \u001b[33m'\u001b[39m\u001b[33mrejected\u001b[39m\u001b[33m'\u001b[39m: \u001b[38;5;28;01mFalse\u001b[39;00m\n\u001b[32m      9\u001b[39m })\n",
                        "\u001b[36mFile \u001b[39m\u001b[32m/workspaces/app_fk/.venv/lib/python3.11/site-packages/pandas/core/frame.py:4107\u001b[39m, in \u001b[36mDataFrame.__getitem__\u001b[39m\u001b[34m(self, key)\u001b[39m\n\u001b[32m   4105\u001b[39m \u001b[38;5;28;01mif\u001b[39;00m \u001b[38;5;28mself\u001b[39m.columns.nlevels > \u001b[32m1\u001b[39m:\n\u001b[32m   4106\u001b[39m     \u001b[38;5;28;01mreturn\u001b[39;00m \u001b[38;5;28mself\u001b[39m._getitem_multilevel(key)\n\u001b[32m-> \u001b[39m\u001b[32m4107\u001b[39m indexer = \u001b[38;5;28;43mself\u001b[39;49m\u001b[43m.\u001b[49m\u001b[43mcolumns\u001b[49m\u001b[43m.\u001b[49m\u001b[43mget_loc\u001b[49m\u001b[43m(\u001b[49m\u001b[43mkey\u001b[49m\u001b[43m)\u001b[49m\n\u001b[32m   4108\u001b[39m \u001b[38;5;28;01mif\u001b[39;00m is_integer(indexer):\n\u001b[32m   4109\u001b[39m     indexer = [indexer]\n",
                        "\u001b[36mFile \u001b[39m\u001b[32m/workspaces/app_fk/.venv/lib/python3.11/site-packages/pandas/core/indexes/base.py:3819\u001b[39m, in \u001b[36mIndex.get_loc\u001b[39m\u001b[34m(self, key)\u001b[39m\n\u001b[32m   3814\u001b[39m     \u001b[38;5;28;01mif\u001b[39;00m \u001b[38;5;28misinstance\u001b[39m(casted_key, \u001b[38;5;28mslice\u001b[39m) \u001b[38;5;129;01mor\u001b[39;00m (\n\u001b[32m   3815\u001b[39m         \u001b[38;5;28misinstance\u001b[39m(casted_key, abc.Iterable)\n\u001b[32m   3816\u001b[39m         \u001b[38;5;129;01mand\u001b[39;00m \u001b[38;5;28many\u001b[39m(\u001b[38;5;28misinstance\u001b[39m(x, \u001b[38;5;28mslice\u001b[39m) \u001b[38;5;28;01mfor\u001b[39;00m x \u001b[38;5;129;01min\u001b[39;00m casted_key)\n\u001b[32m   3817\u001b[39m     ):\n\u001b[32m   3818\u001b[39m         \u001b[38;5;28;01mraise\u001b[39;00m InvalidIndexError(key)\n\u001b[32m-> \u001b[39m\u001b[32m3819\u001b[39m     \u001b[38;5;28;01mraise\u001b[39;00m \u001b[38;5;167;01mKeyError\u001b[39;00m(key) \u001b[38;5;28;01mfrom\u001b[39;00m\u001b[38;5;250m \u001b[39m\u001b[34;01merr\u001b[39;00m\n\u001b[32m   3820\u001b[39m \u001b[38;5;28;01mexcept\u001b[39;00m \u001b[38;5;167;01mTypeError\u001b[39;00m:\n\u001b[32m   3821\u001b[39m     \u001b[38;5;66;03m# If we have a listlike key, _check_indexing_error will raise\u001b[39;00m\n\u001b[32m   3822\u001b[39m     \u001b[38;5;66;03m#  InvalidIndexError. Otherwise we fall through and re-raise\u001b[39;00m\n\u001b[32m   3823\u001b[39m     \u001b[38;5;66;03m#  the TypeError.\u001b[39;00m\n\u001b[32m   3824\u001b[39m     \u001b[38;5;28mself\u001b[39m._check_indexing_error(key)\n",
                        "\u001b[31mKeyError\u001b[39m: 'Gender'"
                    ]
                }
            ],
            "source": [
                "total_data['Gender'] = total_data['Gender'].map({\n",
                "    'male': True,\n",
                "    'female': False\n",
                "})\n",
                "\n",
                "total_data['Admission Status'] = total_data['Admission Status'].map({\n",
                "    'admitted': True,\n",
                "    'rejected': False\n",
                "})"
            ]
        },
        {
            "cell_type": "code",
            "execution_count": null,
            "metadata": {},
            "outputs": [],
            "source": [
                "pd.set_option('display.max_rows', None)  # Mostrar todas las filas\n",
                "# Ver todos los registros de la columna 'Nombre'\n",
                "print(\"Todos los registros de la columna 'Nombre':\")\n",
                "print(total_data['Admission Status'])\n"
            ]
        },
        {
            "cell_type": "code",
            "execution_count": null,
            "metadata": {},
            "outputs": [],
            "source": [
                "print(total_data['Gender'].unique())\n",
                "print(total_data['Admission Status'].unique())"
            ]
        },
        {
            "cell_type": "code",
            "execution_count": null,
            "metadata": {},
            "outputs": [],
            "source": [
                "total_data['Admission Status'] = total_data['Admission Status'].fillna(True)"
            ]
        },
        {
            "cell_type": "code",
            "execution_count": null,
            "metadata": {},
            "outputs": [],
            "source": [
                "pd.set_option('display.max_rows', None)  # Mostrar todas las filas\n",
                "# Ver todos los registros de la columna 'Nombre'\n",
                "print(\"Todos los registros de la columna 'Nombre':\")\n",
                "print(total_data['Gender'])"
            ]
        },
        {
            "cell_type": "code",
            "execution_count": null,
            "metadata": {},
            "outputs": [],
            "source": [
                "total_data.head()"
            ]
        },
        {
            "cell_type": "code",
            "execution_count": null,
            "metadata": {},
            "outputs": [],
            "source": [
                "from sklearn.model_selection import train_test_split\n",
                "\n",
                "num_variables = [\"Age\", \"Gender\", \"Admission Test Score\", \"High School Percentage\"]\n",
                "\n",
                "# Dividimos el conjunto de datos en muestras de train y test\n",
                "X = total_data.drop(\"Admission Status\", axis = 1)[num_variables]\n",
                "y = total_data[\"Admission Status\"]\n",
                "\n",
                "X_train, X_test, y_train, y_test = train_test_split(X, y, test_size = 0.2, random_state = 42)\n",
                "\n",
                "X_train.head()"
            ]
        },
        {
            "cell_type": "code",
            "execution_count": null,
            "metadata": {},
            "outputs": [],
            "source": [
                "from lightgbm import LGBMClassifier\n",
                "\n",
                "model = LGBMClassifier(random_state=42)\n",
                "model.fit(X_train, y_train)"
            ]
        },
        {
            "cell_type": "code",
            "execution_count": null,
            "metadata": {},
            "outputs": [],
            "source": [
                "y_pred = model.predict(X_test)\n",
                "y_pred"
            ]
        },
        {
            "cell_type": "code",
            "execution_count": null,
            "metadata": {},
            "outputs": [],
            "source": [
                "from sklearn.metrics import accuracy_score\n",
                "\n",
                "accuracy_score(y_test, y_pred)"
            ]
        },
        {
            "cell_type": "code",
            "execution_count": null,
            "metadata": {},
            "outputs": [],
            "source": [
                "## Reporte de clasificación\n",
                "from sklearn.metrics import classification_report\n",
                "print(classification_report(y_test, y_pred))"
            ]
        },
        {
            "cell_type": "code",
            "execution_count": null,
            "metadata": {},
            "outputs": [],
            "source": [
                "from sklearn.ensemble import RandomForestClassifier\n",
                "from sklearn.model_selection import RandomizedSearchCV\n",
                "import numpy as np\n",
                "\n",
                "# Hiperparámetros\n",
                "rf_random = {\n",
                "    \"n_estimators\": np.arange(10, 100, 10),\n",
                "    \"max_depth\": [None, 5, 10, 20],\n",
                "    \"min_samples_split\": np.arange(2, 20, 2),\n",
                "    \"min_samples_leaf\": np.arange(1, 20, 2),\n",
                "    \"max_features\": [\"sqrt\", \"log2\"]\n",
                "}\n",
                "\n",
                "# Definir el clasificador base\n",
                "rf = RandomForestClassifier(random_state=42)\n",
                "\n",
                "# Optimización con búsqueda aleatoria\n",
                "rs_model = RandomizedSearchCV(\n",
                "    estimator=rf,\n",
                "    param_distributions=rf_random,\n",
                "    n_iter=20,\n",
                "    cv=5,\n",
                "    scoring=\"accuracy\",  # No existe \"sqrt\" como scoring\n",
                "    verbose=1,\n",
                "    random_state=42\n",
                ")\n",
                "\n",
                "# Entrenamiento\n",
                "rs_model.fit(X_train, y_train)"
            ]
        },
        {
            "cell_type": "code",
            "execution_count": null,
            "metadata": {},
            "outputs": [],
            "source": [
                "rs_model.best_params_"
            ]
        },
        {
            "cell_type": "code",
            "execution_count": null,
            "metadata": {},
            "outputs": [],
            "source": [
                "### Entrenamiento del mejor modelo\n",
                "\n",
                "\n",
                "rs_model_best = RandomForestClassifier(**rs_model.best_params_)\n",
                "rs_model_best.fit(X_train, y_train)"
            ]
        },
        {
            "cell_type": "code",
            "execution_count": null,
            "metadata": {},
            "outputs": [],
            "source": [
                "y_pred_rs = rs_model_best.predict(X_test)"
            ]
        },
        {
            "cell_type": "code",
            "execution_count": null,
            "metadata": {},
            "outputs": [],
            "source": [
                "from sklearn.metrics import accuracy_score\n",
                "\n",
                "accuracy = accuracy_score(y_test, y_pred_rs)\n",
                "accuracy"
            ]
        },
        {
            "cell_type": "code",
            "execution_count": null,
            "metadata": {},
            "outputs": [],
            "source": [
                "from pickle import dump\n",
                "\n",
                "dump(model, open(\"../models/decision_tree_classifier_default_42.sav\", \"wb\"))"
            ]
        }
    ],
    "metadata": {
        "kernelspec": {
            "display_name": ".venv",
            "language": "python",
            "name": "python3"
        },
        "language_info": {
            "codemirror_mode": {
                "name": "ipython",
                "version": 3
            },
            "file_extension": ".py",
            "mimetype": "text/x-python",
            "name": "python",
            "nbconvert_exporter": "python",
            "pygments_lexer": "ipython3",
            "version": "3.11.4"
        },
        "orig_nbformat": 4
    },
    "nbformat": 4,
    "nbformat_minor": 2
}

{
    "cells": [
        {
            "cell_type": "markdown",
            "metadata": {},
            "source": [
                "# Explore here"
            ]
        },
        {
            "cell_type": "code",
            "execution_count": 1,
            "metadata": {},
            "outputs": [
                {
                    "data": {
                        "text/html": [
                            "<div>\n",
                            "<style scoped>\n",
                            "    .dataframe tbody tr th:only-of-type {\n",
                            "        vertical-align: middle;\n",
                            "    }\n",
                            "\n",
                            "    .dataframe tbody tr th {\n",
                            "        vertical-align: top;\n",
                            "    }\n",
                            "\n",
                            "    .dataframe thead th {\n",
                            "        text-align: right;\n",
                            "    }\n",
                            "</style>\n",
                            "<table border=\"1\" class=\"dataframe\">\n",
                            "  <thead>\n",
                            "    <tr style=\"text-align: right;\">\n",
                            "      <th></th>\n",
                            "      <th>Name</th>\n",
                            "      <th>Age</th>\n",
                            "      <th>Gender</th>\n",
                            "      <th>Admission Test Score</th>\n",
                            "      <th>High School Percentage</th>\n",
                            "      <th>City</th>\n",
                            "      <th>Admission Status</th>\n",
                            "    </tr>\n",
                            "  </thead>\n",
                            "  <tbody>\n",
                            "    <tr>\n",
                            "      <th>0</th>\n",
                            "      <td>Shehroz</td>\n",
                            "      <td>24.0</td>\n",
                            "      <td>Female</td>\n",
                            "      <td>50.0</td>\n",
                            "      <td>68.90</td>\n",
                            "      <td>Quetta</td>\n",
                            "      <td>Rejected</td>\n",
                            "    </tr>\n",
                            "    <tr>\n",
                            "      <th>1</th>\n",
                            "      <td>Waqar</td>\n",
                            "      <td>21.0</td>\n",
                            "      <td>Female</td>\n",
                            "      <td>99.0</td>\n",
                            "      <td>60.73</td>\n",
                            "      <td>Karachi</td>\n",
                            "      <td>NaN</td>\n",
                            "    </tr>\n",
                            "    <tr>\n",
                            "      <th>2</th>\n",
                            "      <td>Bushra</td>\n",
                            "      <td>17.0</td>\n",
                            "      <td>Male</td>\n",
                            "      <td>89.0</td>\n",
                            "      <td>NaN</td>\n",
                            "      <td>Islamabad</td>\n",
                            "      <td>Accepted</td>\n",
                            "    </tr>\n",
                            "    <tr>\n",
                            "      <th>3</th>\n",
                            "      <td>Aliya</td>\n",
                            "      <td>17.0</td>\n",
                            "      <td>Male</td>\n",
                            "      <td>55.0</td>\n",
                            "      <td>85.29</td>\n",
                            "      <td>Karachi</td>\n",
                            "      <td>Rejected</td>\n",
                            "    </tr>\n",
                            "    <tr>\n",
                            "      <th>4</th>\n",
                            "      <td>Bilal</td>\n",
                            "      <td>20.0</td>\n",
                            "      <td>Male</td>\n",
                            "      <td>65.0</td>\n",
                            "      <td>61.13</td>\n",
                            "      <td>Lahore</td>\n",
                            "      <td>NaN</td>\n",
                            "    </tr>\n",
                            "  </tbody>\n",
                            "</table>\n",
                            "</div>"
                        ],
                        "text/plain": [
                            "      Name   Age  Gender  Admission Test Score  High School Percentage  \\\n",
                            "0  Shehroz  24.0  Female                  50.0                   68.90   \n",
                            "1    Waqar  21.0  Female                  99.0                   60.73   \n",
                            "2   Bushra  17.0    Male                  89.0                     NaN   \n",
                            "3    Aliya  17.0    Male                  55.0                   85.29   \n",
                            "4    Bilal  20.0    Male                  65.0                   61.13   \n",
                            "\n",
                            "        City Admission Status  \n",
                            "0     Quetta         Rejected  \n",
                            "1    Karachi              NaN  \n",
                            "2  Islamabad         Accepted  \n",
                            "3    Karachi         Rejected  \n",
                            "4     Lahore              NaN  "
                        ]
                    },
                    "execution_count": 1,
                    "metadata": {},
                    "output_type": "execute_result"
                }
            ],
            "source": [
                "import pandas as pd\n",
                "\n",
                "total_data = pd.read_csv(\"/workspaces/app_fk/data/student_admission_record_dirty.csv\")\n",
                "total_data.head()"
            ]
        },
        {
            "cell_type": "code",
            "execution_count": 2,
            "metadata": {},
            "outputs": [
                {
                    "name": "stdout",
                    "output_type": "stream",
                    "text": [
                        "<class 'pandas.core.frame.DataFrame'>\n",
                        "RangeIndex: 157 entries, 0 to 156\n",
                        "Data columns (total 7 columns):\n",
                        " #   Column                  Non-Null Count  Dtype  \n",
                        "---  ------                  --------------  -----  \n",
                        " 0   Name                    147 non-null    object \n",
                        " 1   Age                     147 non-null    float64\n",
                        " 2   Gender                  147 non-null    object \n",
                        " 3   Admission Test Score    146 non-null    float64\n",
                        " 4   High School Percentage  146 non-null    float64\n",
                        " 5   City                    147 non-null    object \n",
                        " 6   Admission Status        147 non-null    object \n",
                        "dtypes: float64(3), object(4)\n",
                        "memory usage: 8.7+ KB\n"
                    ]
                }
            ],
            "source": [
                "total_data.info()"
            ]
        },
        {
            "cell_type": "code",
            "execution_count": 3,
            "metadata": {},
            "outputs": [
                {
                    "data": {
                        "text/plain": [
                            "(157, 7)"
                        ]
                    },
                    "execution_count": 3,
                    "metadata": {},
                    "output_type": "execute_result"
                }
            ],
            "source": [
                "total_data.shape"
            ]
        },
        {
            "cell_type": "code",
            "execution_count": 4,
            "metadata": {},
            "outputs": [
                {
                    "name": "stdout",
                    "output_type": "stream",
                    "text": [
                        "(151, 7)\n"
                    ]
                },
                {
                    "data": {
                        "text/html": [
                            "<div>\n",
                            "<style scoped>\n",
                            "    .dataframe tbody tr th:only-of-type {\n",
                            "        vertical-align: middle;\n",
                            "    }\n",
                            "\n",
                            "    .dataframe tbody tr th {\n",
                            "        vertical-align: top;\n",
                            "    }\n",
                            "\n",
                            "    .dataframe thead th {\n",
                            "        text-align: right;\n",
                            "    }\n",
                            "</style>\n",
                            "<table border=\"1\" class=\"dataframe\">\n",
                            "  <thead>\n",
                            "    <tr style=\"text-align: right;\">\n",
                            "      <th></th>\n",
                            "      <th>Name</th>\n",
                            "      <th>Age</th>\n",
                            "      <th>Gender</th>\n",
                            "      <th>Admission Test Score</th>\n",
                            "      <th>High School Percentage</th>\n",
                            "      <th>City</th>\n",
                            "      <th>Admission Status</th>\n",
                            "    </tr>\n",
                            "  </thead>\n",
                            "  <tbody>\n",
                            "    <tr>\n",
                            "      <th>0</th>\n",
                            "      <td>Shehroz</td>\n",
                            "      <td>24.0</td>\n",
                            "      <td>Female</td>\n",
                            "      <td>50.0</td>\n",
                            "      <td>68.90</td>\n",
                            "      <td>Quetta</td>\n",
                            "      <td>Rejected</td>\n",
                            "    </tr>\n",
                            "    <tr>\n",
                            "      <th>1</th>\n",
                            "      <td>Waqar</td>\n",
                            "      <td>21.0</td>\n",
                            "      <td>Female</td>\n",
                            "      <td>99.0</td>\n",
                            "      <td>60.73</td>\n",
                            "      <td>Karachi</td>\n",
                            "      <td>NaN</td>\n",
                            "    </tr>\n",
                            "    <tr>\n",
                            "      <th>2</th>\n",
                            "      <td>Bushra</td>\n",
                            "      <td>17.0</td>\n",
                            "      <td>Male</td>\n",
                            "      <td>89.0</td>\n",
                            "      <td>NaN</td>\n",
                            "      <td>Islamabad</td>\n",
                            "      <td>Accepted</td>\n",
                            "    </tr>\n",
                            "    <tr>\n",
                            "      <th>3</th>\n",
                            "      <td>Aliya</td>\n",
                            "      <td>17.0</td>\n",
                            "      <td>Male</td>\n",
                            "      <td>55.0</td>\n",
                            "      <td>85.29</td>\n",
                            "      <td>Karachi</td>\n",
                            "      <td>Rejected</td>\n",
                            "    </tr>\n",
                            "    <tr>\n",
                            "      <th>4</th>\n",
                            "      <td>Bilal</td>\n",
                            "      <td>20.0</td>\n",
                            "      <td>Male</td>\n",
                            "      <td>65.0</td>\n",
                            "      <td>61.13</td>\n",
                            "      <td>Lahore</td>\n",
                            "      <td>NaN</td>\n",
                            "    </tr>\n",
                            "  </tbody>\n",
                            "</table>\n",
                            "</div>"
                        ],
                        "text/plain": [
                            "      Name   Age  Gender  Admission Test Score  High School Percentage  \\\n",
                            "0  Shehroz  24.0  Female                  50.0                   68.90   \n",
                            "1    Waqar  21.0  Female                  99.0                   60.73   \n",
                            "2   Bushra  17.0    Male                  89.0                     NaN   \n",
                            "3    Aliya  17.0    Male                  55.0                   85.29   \n",
                            "4    Bilal  20.0    Male                  65.0                   61.13   \n",
                            "\n",
                            "        City Admission Status  \n",
                            "0     Quetta         Rejected  \n",
                            "1    Karachi              NaN  \n",
                            "2  Islamabad         Accepted  \n",
                            "3    Karachi         Rejected  \n",
                            "4     Lahore              NaN  "
                        ]
                    },
                    "execution_count": 4,
                    "metadata": {},
                    "output_type": "execute_result"
                }
            ],
            "source": [
                "if total_data.duplicated().sum():\n",
                "    total_data = total_data.drop_duplicates()\n",
                "print(total_data.shape)\n",
                "total_data.head()"
            ]
        },
        {
            "cell_type": "code",
            "execution_count": 5,
            "metadata": {},
            "outputs": [
                {
                    "data": {
                        "text/plain": [
                            "Admission Test Score      11\n",
                            "High School Percentage    11\n",
                            "Name                      10\n",
                            "Gender                    10\n",
                            "Age                       10\n",
                            "City                      10\n",
                            "Admission Status          10\n",
                            "dtype: int64"
                        ]
                    },
                    "execution_count": 5,
                    "metadata": {},
                    "output_type": "execute_result"
                }
            ],
            "source": [
                "total_data.isnull().sum().sort_values(ascending=False)"
            ]
        },
        {
            "cell_type": "code",
            "execution_count": 6,
            "metadata": {},
            "outputs": [
                {
                    "name": "stderr",
                    "output_type": "stream",
                    "text": [
                        "/tmp/ipykernel_31919/2001177043.py:9: FutureWarning: A value is trying to be set on a copy of a DataFrame or Series through chained assignment using an inplace method.\n",
                        "The behavior will change in pandas 3.0. This inplace method will never work because the intermediate object on which we are setting values always behaves as a copy.\n",
                        "\n",
                        "For example, when doing 'df[col].method(value, inplace=True)', try using 'df.method({col: value}, inplace=True)' or df[col] = df[col].method(value) instead, to perform the operation inplace on the original object.\n",
                        "\n",
                        "\n",
                        "  total_data[\"Name\"].fillna(\"Desconocido\", inplace=True)\n"
                    ]
                },
                {
                    "data": {
                        "text/plain": [
                            "Name                      0\n",
                            "Age                       0\n",
                            "Gender                    0\n",
                            "Admission Test Score      0\n",
                            "High School Percentage    0\n",
                            "City                      0\n",
                            "Admission Status          0\n",
                            "dtype: int64"
                        ]
                    },
                    "execution_count": 6,
                    "metadata": {},
                    "output_type": "execute_result"
                }
            ],
            "source": [
                "\n",
                "total_data[\"Admission Test Score\"] = total_data[\"Admission Test Score\"].fillna(total_data[\"Admission Test Score\"].median())\n",
                "total_data[\"High School Percentage\"] = total_data[\"High School Percentage\"].fillna(total_data[\"High School Percentage\"].mode()[0])\n",
                "total_data[\"Gender\"] = total_data[\"Gender\"].fillna(total_data[\"Gender\"].mode()[0]) \n",
                "total_data[\"Age\"] = total_data[\"Age\"].fillna(total_data[\"Age\"].mode()[0])\n",
                "total_data[\"City\"] = total_data[\"City\"].fillna(total_data[\"City\"].mode()[0]) \n",
                "total_data[\"Admission Status\"] = total_data[\"Admission Status\"].fillna(total_data[\"Admission Status\"].mode()[0])  \n",
                "\n",
                "\n",
                "total_data[\"Name\"].fillna(\"Desconocido\", inplace=True)  \n",
                "\n",
                "\n",
                "total_data.isnull().sum()\n"
            ]
        },
        {
            "cell_type": "code",
            "execution_count": 7,
            "metadata": {},
            "outputs": [
                {
                    "data": {
                        "text/html": [
                            "<div>\n",
                            "<style scoped>\n",
                            "    .dataframe tbody tr th:only-of-type {\n",
                            "        vertical-align: middle;\n",
                            "    }\n",
                            "\n",
                            "    .dataframe tbody tr th {\n",
                            "        vertical-align: top;\n",
                            "    }\n",
                            "\n",
                            "    .dataframe thead th {\n",
                            "        text-align: right;\n",
                            "    }\n",
                            "</style>\n",
                            "<table border=\"1\" class=\"dataframe\">\n",
                            "  <thead>\n",
                            "    <tr style=\"text-align: right;\">\n",
                            "      <th></th>\n",
                            "      <th>Age</th>\n",
                            "      <th>Gender</th>\n",
                            "      <th>Admission Test Score</th>\n",
                            "      <th>High School Percentage</th>\n",
                            "      <th>Admission Status</th>\n",
                            "    </tr>\n",
                            "  </thead>\n",
                            "  <tbody>\n",
                            "    <tr>\n",
                            "      <th>0</th>\n",
                            "      <td>24.0</td>\n",
                            "      <td>Female</td>\n",
                            "      <td>50.0</td>\n",
                            "      <td>68.90</td>\n",
                            "      <td>Rejected</td>\n",
                            "    </tr>\n",
                            "    <tr>\n",
                            "      <th>1</th>\n",
                            "      <td>21.0</td>\n",
                            "      <td>Female</td>\n",
                            "      <td>99.0</td>\n",
                            "      <td>60.73</td>\n",
                            "      <td>Rejected</td>\n",
                            "    </tr>\n",
                            "    <tr>\n",
                            "      <th>2</th>\n",
                            "      <td>17.0</td>\n",
                            "      <td>Male</td>\n",
                            "      <td>89.0</td>\n",
                            "      <td>54.59</td>\n",
                            "      <td>Accepted</td>\n",
                            "    </tr>\n",
                            "    <tr>\n",
                            "      <th>3</th>\n",
                            "      <td>17.0</td>\n",
                            "      <td>Male</td>\n",
                            "      <td>55.0</td>\n",
                            "      <td>85.29</td>\n",
                            "      <td>Rejected</td>\n",
                            "    </tr>\n",
                            "    <tr>\n",
                            "      <th>4</th>\n",
                            "      <td>20.0</td>\n",
                            "      <td>Male</td>\n",
                            "      <td>65.0</td>\n",
                            "      <td>61.13</td>\n",
                            "      <td>Rejected</td>\n",
                            "    </tr>\n",
                            "  </tbody>\n",
                            "</table>\n",
                            "</div>"
                        ],
                        "text/plain": [
                            "    Age  Gender  Admission Test Score  High School Percentage Admission Status\n",
                            "0  24.0  Female                  50.0                   68.90         Rejected\n",
                            "1  21.0  Female                  99.0                   60.73         Rejected\n",
                            "2  17.0    Male                  89.0                   54.59         Accepted\n",
                            "3  17.0    Male                  55.0                   85.29         Rejected\n",
                            "4  20.0    Male                  65.0                   61.13         Rejected"
                        ]
                    },
                    "execution_count": 7,
                    "metadata": {},
                    "output_type": "execute_result"
                }
            ],
            "source": [
                "total_data.drop([\"Name\", \"City\"], axis = 1, inplace = True)\n",
                "total_data.head()"
            ]
        },
        {
            "cell_type": "code",
            "execution_count": 8,
            "metadata": {},
            "outputs": [],
            "source": [
                "#total_data[\"Gender\"] = total_data[\"Gender\"].str.strip()  # Eliminar espacios\n",
                "#total_data[\"Admission Status\"] = total_data[\"Admission Status\"].str.strip()  # Eliminar espacios\n",
                "#total_data[\"Gender\"] = total_data[\"Gender\"].str.replace(',', '.')  # Reemplazar coma por punto\n",
                "#total_data[\"Admission Status\"] = total_data[\"Admission Status\"].str.replace(',', '.')  # Reemplazar coma por punto\n",
                "#total_data[\"Gender\"] = total_data[\"Gender\"].str.replace('$', '')  # Eliminar símbolo de dólar\n",
                "#total_data[\"Admission Status\"] = total_data[\"Admission Status\"].str.replace('$', '')  # Eliminar símbolo de dólar\n",
                "# Convertir a numérico\n",
                "#total_data[\"Gender\"] = pd.to_numeric(total_data[\"Gender\"], errors='coerce')\n",
                "#total_data[\"Admission Status\"] = pd.to_numeric(total_data[\"Gender\"], errors='coerce')\n",
                "# Manejar valores NaN\n",
                "#total_data[\"Gender\"].fillna(0, inplace=True)  # Rellenar NaN con 0\n",
                "#total_data[\"Admission Status\"].fillna(0, inplace=True)  # Rellenar NaN con 0\n",
                "# Mostrar el DataFrame resultante\n",
                "#print(\"DataFrame después de la conversión:\")\n",
                "#total_data.head()\n"
            ]
        },
        {
            "cell_type": "code",
            "execution_count": 9,
            "metadata": {},
            "outputs": [
                {
                    "name": "stdout",
                    "output_type": "stream",
                    "text": [
                        "['Female' 'Male']\n",
                        "['Rejected' 'Accepted']\n"
                    ]
                }
            ],
            "source": [
                "print(total_data['Gender'].unique())\n",
                "print(total_data['Admission Status'].unique())"
            ]
        },
        {
            "cell_type": "code",
            "execution_count": 10,
            "metadata": {},
            "outputs": [
                {
                    "name": "stdout",
                    "output_type": "stream",
                    "text": [
                        "['female' 'male']\n",
                        "['rejected' 'accepted']\n"
                    ]
                }
            ],
            "source": [
                "total_data['Gender'] = total_data['Gender'].astype(str).str.strip().str.lower()\n",
                "total_data['Admission Status'] = total_data['Admission Status'].astype(str).str.strip().str.lower()\n",
                "print(total_data['Gender'].unique())\n",
                "print(total_data['Admission Status'].unique())"
            ]
        },
        {
            "cell_type": "code",
            "execution_count": 11,
            "metadata": {},
            "outputs": [],
            "source": [
                "total_data['Gender'] = total_data['Gender'].map({\n",
                "    'male': True,\n",
                "    'female': False\n",
                "})\n",
                "\n",
                "total_data['Admission Status'] = total_data['Admission Status'].map({\n",
                "    'admitted': True,\n",
                "    'rejected': False\n",
                "})"
            ]
        },
        {
            "cell_type": "code",
            "execution_count": 12,
            "metadata": {},
            "outputs": [
                {
                    "name": "stdout",
                    "output_type": "stream",
                    "text": [
                        "Todos los registros de la columna 'Nombre':\n",
                        "0      False\n",
                        "1      False\n",
                        "2        NaN\n",
                        "3      False\n",
                        "4      False\n",
                        "5        NaN\n",
                        "6        NaN\n",
                        "7        NaN\n",
                        "8        NaN\n",
                        "9      False\n",
                        "10     False\n",
                        "11       NaN\n",
                        "12     False\n",
                        "13       NaN\n",
                        "14     False\n",
                        "15     False\n",
                        "16     False\n",
                        "17     False\n",
                        "18       NaN\n",
                        "19     False\n",
                        "20     False\n",
                        "21     False\n",
                        "23     False\n",
                        "24     False\n",
                        "25     False\n",
                        "26     False\n",
                        "27     False\n",
                        "28       NaN\n",
                        "29       NaN\n",
                        "30     False\n",
                        "31     False\n",
                        "32     False\n",
                        "33     False\n",
                        "34     False\n",
                        "35       NaN\n",
                        "36     False\n",
                        "37     False\n",
                        "38     False\n",
                        "39       NaN\n",
                        "40     False\n",
                        "41     False\n",
                        "42       NaN\n",
                        "43       NaN\n",
                        "44       NaN\n",
                        "45     False\n",
                        "46       NaN\n",
                        "47       NaN\n",
                        "48       NaN\n",
                        "49     False\n",
                        "50     False\n",
                        "51     False\n",
                        "53     False\n",
                        "54     False\n",
                        "55       NaN\n",
                        "56       NaN\n",
                        "57       NaN\n",
                        "58       NaN\n",
                        "59     False\n",
                        "60       NaN\n",
                        "61       NaN\n",
                        "62       NaN\n",
                        "63       NaN\n",
                        "64     False\n",
                        "65     False\n",
                        "66     False\n",
                        "67     False\n",
                        "68     False\n",
                        "69       NaN\n",
                        "70       NaN\n",
                        "71     False\n",
                        "72     False\n",
                        "73       NaN\n",
                        "74     False\n",
                        "75     False\n",
                        "76       NaN\n",
                        "77       NaN\n",
                        "78       NaN\n",
                        "79     False\n",
                        "80       NaN\n",
                        "81     False\n",
                        "82       NaN\n",
                        "83     False\n",
                        "84       NaN\n",
                        "85     False\n",
                        "86       NaN\n",
                        "87       NaN\n",
                        "89     False\n",
                        "90       NaN\n",
                        "91     False\n",
                        "92       NaN\n",
                        "93     False\n",
                        "94       NaN\n",
                        "95     False\n",
                        "96     False\n",
                        "97     False\n",
                        "98     False\n",
                        "99       NaN\n",
                        "100    False\n",
                        "101      NaN\n",
                        "102      NaN\n",
                        "103    False\n",
                        "104    False\n",
                        "105    False\n",
                        "106      NaN\n",
                        "107      NaN\n",
                        "108    False\n",
                        "109      NaN\n",
                        "111      NaN\n",
                        "112      NaN\n",
                        "113    False\n",
                        "114      NaN\n",
                        "115    False\n",
                        "116      NaN\n",
                        "117    False\n",
                        "118      NaN\n",
                        "119      NaN\n",
                        "121    False\n",
                        "123    False\n",
                        "124      NaN\n",
                        "125      NaN\n",
                        "126    False\n",
                        "127      NaN\n",
                        "128    False\n",
                        "129    False\n",
                        "130    False\n",
                        "131    False\n",
                        "132      NaN\n",
                        "133    False\n",
                        "134    False\n",
                        "135    False\n",
                        "136      NaN\n",
                        "137    False\n",
                        "138      NaN\n",
                        "139    False\n",
                        "140      NaN\n",
                        "141    False\n",
                        "142    False\n",
                        "143    False\n",
                        "144    False\n",
                        "145      NaN\n",
                        "146    False\n",
                        "147      NaN\n",
                        "148      NaN\n",
                        "149      NaN\n",
                        "150      NaN\n",
                        "151    False\n",
                        "152      NaN\n",
                        "153    False\n",
                        "154      NaN\n",
                        "155      NaN\n",
                        "156      NaN\n",
                        "Name: Admission Status, dtype: object\n"
                    ]
                }
            ],
            "source": [
                "pd.set_option('display.max_rows', None)  # Mostrar todas las filas\n",
                "# Ver todos los registros de la columna 'Nombre'\n",
                "print(\"Todos los registros de la columna 'Nombre':\")\n",
                "print(total_data['Admission Status'])\n"
            ]
        },
        {
            "cell_type": "code",
            "execution_count": 13,
            "metadata": {},
            "outputs": [
                {
                    "name": "stdout",
                    "output_type": "stream",
                    "text": [
                        "[False  True]\n",
                        "[False nan]\n"
                    ]
                }
            ],
            "source": [
                "print(total_data['Gender'].unique())\n",
                "print(total_data['Admission Status'].unique())"
            ]
        },
        {
            "cell_type": "code",
            "execution_count": 17,
            "metadata": {},
            "outputs": [
                {
                    "name": "stderr",
                    "output_type": "stream",
                    "text": [
                        "/tmp/ipykernel_31919/1644196348.py:1: FutureWarning: Downcasting object dtype arrays on .fillna, .ffill, .bfill is deprecated and will change in a future version. Call result.infer_objects(copy=False) instead. To opt-in to the future behavior, set `pd.set_option('future.no_silent_downcasting', True)`\n",
                        "  total_data['Admission Status'] = total_data['Admission Status'].fillna(True)\n"
                    ]
                }
            ],
            "source": [
                "total_data['Admission Status'] = total_data['Admission Status'].fillna(True)"
            ]
        },
        {
            "cell_type": "code",
            "execution_count": 19,
            "metadata": {},
            "outputs": [
                {
                    "name": "stdout",
                    "output_type": "stream",
                    "text": [
                        "Todos los registros de la columna 'Nombre':\n",
                        "0      False\n",
                        "1      False\n",
                        "2       True\n",
                        "3      False\n",
                        "4      False\n",
                        "5       True\n",
                        "6       True\n",
                        "7       True\n",
                        "8       True\n",
                        "9      False\n",
                        "10     False\n",
                        "11      True\n",
                        "12     False\n",
                        "13      True\n",
                        "14     False\n",
                        "15     False\n",
                        "16     False\n",
                        "17     False\n",
                        "18      True\n",
                        "19     False\n",
                        "20     False\n",
                        "21     False\n",
                        "23     False\n",
                        "24     False\n",
                        "25     False\n",
                        "26     False\n",
                        "27     False\n",
                        "28      True\n",
                        "29      True\n",
                        "30     False\n",
                        "31     False\n",
                        "32     False\n",
                        "33     False\n",
                        "34     False\n",
                        "35      True\n",
                        "36     False\n",
                        "37     False\n",
                        "38     False\n",
                        "39      True\n",
                        "40     False\n",
                        "41     False\n",
                        "42      True\n",
                        "43      True\n",
                        "44      True\n",
                        "45     False\n",
                        "46      True\n",
                        "47      True\n",
                        "48      True\n",
                        "49     False\n",
                        "50     False\n",
                        "51     False\n",
                        "53     False\n",
                        "54     False\n",
                        "55      True\n",
                        "56      True\n",
                        "57      True\n",
                        "58      True\n",
                        "59     False\n",
                        "60      True\n",
                        "61      True\n",
                        "62      True\n",
                        "63      True\n",
                        "64     False\n",
                        "65     False\n",
                        "66     False\n",
                        "67     False\n",
                        "68     False\n",
                        "69      True\n",
                        "70      True\n",
                        "71     False\n",
                        "72     False\n",
                        "73      True\n",
                        "74     False\n",
                        "75     False\n",
                        "76      True\n",
                        "77      True\n",
                        "78      True\n",
                        "79     False\n",
                        "80      True\n",
                        "81     False\n",
                        "82      True\n",
                        "83     False\n",
                        "84      True\n",
                        "85     False\n",
                        "86      True\n",
                        "87      True\n",
                        "89     False\n",
                        "90      True\n",
                        "91     False\n",
                        "92      True\n",
                        "93     False\n",
                        "94      True\n",
                        "95     False\n",
                        "96     False\n",
                        "97     False\n",
                        "98     False\n",
                        "99      True\n",
                        "100    False\n",
                        "101     True\n",
                        "102     True\n",
                        "103    False\n",
                        "104    False\n",
                        "105    False\n",
                        "106     True\n",
                        "107     True\n",
                        "108    False\n",
                        "109     True\n",
                        "111     True\n",
                        "112     True\n",
                        "113    False\n",
                        "114     True\n",
                        "115    False\n",
                        "116     True\n",
                        "117    False\n",
                        "118     True\n",
                        "119     True\n",
                        "121    False\n",
                        "123    False\n",
                        "124     True\n",
                        "125     True\n",
                        "126    False\n",
                        "127     True\n",
                        "128    False\n",
                        "129    False\n",
                        "130    False\n",
                        "131    False\n",
                        "132     True\n",
                        "133    False\n",
                        "134    False\n",
                        "135    False\n",
                        "136     True\n",
                        "137    False\n",
                        "138     True\n",
                        "139    False\n",
                        "140     True\n",
                        "141    False\n",
                        "142    False\n",
                        "143    False\n",
                        "144    False\n",
                        "145     True\n",
                        "146    False\n",
                        "147     True\n",
                        "148     True\n",
                        "149     True\n",
                        "150     True\n",
                        "151    False\n",
                        "152     True\n",
                        "153    False\n",
                        "154     True\n",
                        "155     True\n",
                        "156     True\n",
                        "Name: Gender, dtype: bool\n"
                    ]
                }
            ],
            "source": [
                "pd.set_option('display.max_rows', None)  # Mostrar todas las filas\n",
                "# Ver todos los registros de la columna 'Nombre'\n",
                "print(\"Todos los registros de la columna 'Nombre':\")\n",
                "print(total_data['Gender'])"
            ]
        },
        {
            "cell_type": "code",
            "execution_count": 20,
            "metadata": {},
            "outputs": [
                {
                    "data": {
                        "text/html": [
                            "<div>\n",
                            "<style scoped>\n",
                            "    .dataframe tbody tr th:only-of-type {\n",
                            "        vertical-align: middle;\n",
                            "    }\n",
                            "\n",
                            "    .dataframe tbody tr th {\n",
                            "        vertical-align: top;\n",
                            "    }\n",
                            "\n",
                            "    .dataframe thead th {\n",
                            "        text-align: right;\n",
                            "    }\n",
                            "</style>\n",
                            "<table border=\"1\" class=\"dataframe\">\n",
                            "  <thead>\n",
                            "    <tr style=\"text-align: right;\">\n",
                            "      <th></th>\n",
                            "      <th>Age</th>\n",
                            "      <th>Gender</th>\n",
                            "      <th>Admission Test Score</th>\n",
                            "      <th>High School Percentage</th>\n",
                            "      <th>Admission Status</th>\n",
                            "    </tr>\n",
                            "  </thead>\n",
                            "  <tbody>\n",
                            "    <tr>\n",
                            "      <th>0</th>\n",
                            "      <td>24.0</td>\n",
                            "      <td>False</td>\n",
                            "      <td>50.0</td>\n",
                            "      <td>68.90</td>\n",
                            "      <td>False</td>\n",
                            "    </tr>\n",
                            "    <tr>\n",
                            "      <th>1</th>\n",
                            "      <td>21.0</td>\n",
                            "      <td>False</td>\n",
                            "      <td>99.0</td>\n",
                            "      <td>60.73</td>\n",
                            "      <td>False</td>\n",
                            "    </tr>\n",
                            "    <tr>\n",
                            "      <th>2</th>\n",
                            "      <td>17.0</td>\n",
                            "      <td>True</td>\n",
                            "      <td>89.0</td>\n",
                            "      <td>54.59</td>\n",
                            "      <td>True</td>\n",
                            "    </tr>\n",
                            "    <tr>\n",
                            "      <th>3</th>\n",
                            "      <td>17.0</td>\n",
                            "      <td>False</td>\n",
                            "      <td>55.0</td>\n",
                            "      <td>85.29</td>\n",
                            "      <td>False</td>\n",
                            "    </tr>\n",
                            "    <tr>\n",
                            "      <th>4</th>\n",
                            "      <td>20.0</td>\n",
                            "      <td>False</td>\n",
                            "      <td>65.0</td>\n",
                            "      <td>61.13</td>\n",
                            "      <td>False</td>\n",
                            "    </tr>\n",
                            "  </tbody>\n",
                            "</table>\n",
                            "</div>"
                        ],
                        "text/plain": [
                            "    Age  Gender  Admission Test Score  High School Percentage  \\\n",
                            "0  24.0   False                  50.0                   68.90   \n",
                            "1  21.0   False                  99.0                   60.73   \n",
                            "2  17.0    True                  89.0                   54.59   \n",
                            "3  17.0   False                  55.0                   85.29   \n",
                            "4  20.0   False                  65.0                   61.13   \n",
                            "\n",
                            "   Admission Status  \n",
                            "0             False  \n",
                            "1             False  \n",
                            "2              True  \n",
                            "3             False  \n",
                            "4             False  "
                        ]
                    },
                    "execution_count": 20,
                    "metadata": {},
                    "output_type": "execute_result"
                }
            ],
            "source": [
                "total_data.head()"
            ]
        },
        {
            "cell_type": "code",
            "execution_count": 14,
            "metadata": {},
            "outputs": [
                {
                    "ename": "NameError",
                    "evalue": "name 'df' is not defined",
                    "output_type": "error",
                    "traceback": [
                        "\u001b[31m---------------------------------------------------------------------------\u001b[39m",
                        "\u001b[31mNameError\u001b[39m                                 Traceback (most recent call last)",
                        "\u001b[36mCell\u001b[39m\u001b[36m \u001b[39m\u001b[32mIn[14]\u001b[39m\u001b[32m, line 1\u001b[39m\n\u001b[32m----> \u001b[39m\u001b[32m1\u001b[39m df.columns = \u001b[43mdf\u001b[49m.columns.str.strip()\n\u001b[32m      3\u001b[39m df[\u001b[33m\"\u001b[39m\u001b[33mAdmission Test Score\u001b[39m\u001b[33m\"\u001b[39m].fillna(df[\u001b[33m\"\u001b[39m\u001b[33mAdmission Test Score\u001b[39m\u001b[33m\"\u001b[39m].median(), inplace=\u001b[38;5;28;01mTrue\u001b[39;00m)\n\u001b[32m      4\u001b[39m df[\u001b[33m\"\u001b[39m\u001b[33mHigh School Percentage\u001b[39m\u001b[33m\"\u001b[39m].fillna(df[\u001b[33m\"\u001b[39m\u001b[33mHigh School Percentage\u001b[39m\u001b[33m\"\u001b[39m].mode()[\u001b[32m0\u001b[39m], inplace=\u001b[38;5;28;01mTrue\u001b[39;00m)\n",
                        "\u001b[31mNameError\u001b[39m: name 'df' is not defined"
                    ]
                }
            ],
            "source": [
                "\n",
                "df.columns = df.columns.str.strip()\n",
                "\n",
                "df[\"Admission Test Score\"].fillna(df[\"Admission Test Score\"].median(), inplace=True)\n",
                "df[\"High School Percentage\"].fillna(df[\"High School Percentage\"].mode()[0], inplace=True)\n",
                "df[\"Name\"].fillna(df[\"Name\"].mode()[0], inplace=True)  \n",
                "df[\"Gender\"].fillna(df[\"Gender\"].mode()[0], inplace=True)  \n",
                "df[\"Age\"].fillna(df[\"Age\"].mode()[0], inplace=True)\n",
                "df[\"City\"].fillna(df[\"City\"].mode()[0], inplace=True) \n",
                "df[\"Admission Status\"].fillna(df[\"Admission Status\"].mode()[0], inplace=True)  \n",
                "   "
            ]
        },
        {
            "cell_type": "code",
            "execution_count": null,
            "metadata": {},
            "outputs": [],
            "source": [
                "df.isnull().sum().sort_values(ascending=False)"
            ]
        },
        {
            "cell_type": "code",
            "execution_count": null,
            "metadata": {},
            "outputs": [],
            "source": [
                "df.info()"
            ]
        },
        {
            "cell_type": "code",
            "execution_count": null,
            "metadata": {},
            "outputs": [],
            "source": [
                "\n",
                "df['Name'] = pd.to_numeric(df['Name'], errors='coerce')"
            ]
        },
        {
            "cell_type": "code",
            "execution_count": null,
            "metadata": {},
            "outputs": [],
            "source": [
                "df['Gender'] = pd.to_numeric(df['Gender'], errors='coerce')\n",
                "df['City'] = pd.to_numeric(df['City'], errors='coerce')\n",
                "df['Admission Status'] = pd.to_numeric(df['Admission Status'], errors='coerce')"
            ]
        },
        {
            "cell_type": "code",
            "execution_count": null,
            "metadata": {},
            "outputs": [],
            "source": [
                "df.info()"
            ]
        },
        {
            "cell_type": "code",
            "execution_count": null,
            "metadata": {},
            "outputs": [],
            "source": [
                "df[\"Name_n\"] = pd.factorize(df[\"Name\"])[0]\n",
                "df[\"Gender_n\"] = pd.factorize(df[\"Gender\"])[0]\n",
                "df[\"City_n\"] = pd.factorize(df[\"City\"])[0]\n",
                "df[\"Admission Status_n\"] = pd.factorize(df[\"Admission Status\"])[0]"
            ]
        },
        {
            "cell_type": "code",
            "execution_count": null,
            "metadata": {},
            "outputs": [],
            "source": [
                "df.head()"
            ]
        },
        {
            "cell_type": "code",
            "execution_count": null,
            "metadata": {},
            "outputs": [],
            "source": [
                "df = df.drop(columns=[\"Name\", \"Gender\", \"City\", \"Admission Status\"])"
            ]
        },
        {
            "cell_type": "code",
            "execution_count": null,
            "metadata": {},
            "outputs": [],
            "source": [
                "df.head()"
            ]
        },
        {
            "cell_type": "code",
            "execution_count": null,
            "metadata": {},
            "outputs": [],
            "source": [
                "from sklearn.model_selection import train_test_split\n",
                "\n",
                "num_variables = [\"Name_n\", \"Age\", \"Gender_n\", \"Admission Test Score\", \"High School Percentage\", \"City_n\"]\n",
                "\n",
                "# Dividimos el conjunto de datos en muestras de train y test\n",
                "X = df.drop(\"Admission Status_n\", axis = 1)[num_variables]\n",
                "y = df[\"Admission Status_n\"]\n",
                "\n",
                "X_train, X_test, y_train, y_test = train_test_split(X, y, test_size = 0.2, random_state = 42)\n",
                "\n",
                "X_train.head()"
            ]
        },
        {
            "cell_type": "code",
            "execution_count": null,
            "metadata": {},
            "outputs": [],
            "source": [
                "from sklearn.preprocessing import StandardScaler\n",
                "\n",
                "scaler = StandardScaler()\n",
                "scaler.fit(X_train)\n",
                "\n",
                "X_train_norm = scaler.transform(X_train)\n",
                "X_train_norm = pd.DataFrame(X_train_norm, index = X_train.index, columns = num_variables)\n",
                "\n",
                "X_test_norm = scaler.transform(X_test)\n",
                "X_test_norm = pd.DataFrame(X_test_norm, index = X_test.index, columns = num_variables)\n",
                "\n",
                "X_train_norm.head()"
            ]
        },
        {
            "cell_type": "code",
            "execution_count": null,
            "metadata": {},
            "outputs": [],
            "source": [
                "x_train = X_train_norm\n",
                "x_test = X_test_norm"
            ]
        },
        {
            "cell_type": "code",
            "execution_count": null,
            "metadata": {},
            "outputs": [],
            "source": [
                "from sklearn.tree import DecisionTreeClassifier\n",
                "\n",
                "model = DecisionTreeClassifier()\n",
                "model.fit(x_train, y_train)"
            ]
        },
        {
            "cell_type": "code",
            "execution_count": null,
            "metadata": {},
            "outputs": [],
            "source": [
                "y_pred = model.predict(x_test)"
            ]
        },
        {
            "cell_type": "code",
            "execution_count": null,
            "metadata": {},
            "outputs": [],
            "source": [
                "import matplotlib.pyplot as plt\n",
                "from sklearn import tree\n",
                "\n",
                "fig = plt.figure(figsize=(10,10))\n",
                "\n",
                "tree.plot_tree(model, feature_names = list(x_train.columns), class_names = [\"Name_n\", \"Age\", \"Gender_n\", \"Admission Test Score\", \"High School Percentage\", \"City_n\"], filled = True)\n",
                "\n",
                "plt.show()"
            ]
        },
        {
            "cell_type": "code",
            "execution_count": null,
            "metadata": {},
            "outputs": [],
            "source": [
                "Y_pred = model.predict(x_test)\n",
                "Y_pred"
            ]
        },
        {
            "cell_type": "code",
            "execution_count": null,
            "metadata": {},
            "outputs": [],
            "source": [
                "from sklearn.metrics import accuracy_score\n",
                "\n",
                "accuracy_score(y_test, Y_pred)"
            ]
        },
        {
            "cell_type": "code",
            "execution_count": null,
            "metadata": {},
            "outputs": [],
            "source": [
                "### Profundidad del árbol\n",
                "model.get_depth()"
            ]
        },
        {
            "cell_type": "code",
            "execution_count": null,
            "metadata": {},
            "outputs": [],
            "source": [
                "### Número de hojas\n",
                "model.get_n_leaves()"
            ]
        },
        {
            "cell_type": "code",
            "execution_count": null,
            "metadata": {},
            "outputs": [],
            "source": [
                "from pickle import dump\n",
                "\n",
                "dump(model, open(\"../models/decision_tree_classifier_default_42.sav\", \"wb\"))"
            ]
        }
    ],
    "metadata": {
        "kernelspec": {
            "display_name": ".venv",
            "language": "python",
            "name": "python3"
        },
        "language_info": {
            "codemirror_mode": {
                "name": "ipython",
                "version": 3
            },
            "file_extension": ".py",
            "mimetype": "text/x-python",
            "name": "python",
            "nbconvert_exporter": "python",
            "pygments_lexer": "ipython3",
            "version": "3.11.4"
        },
        "orig_nbformat": 4
    },
    "nbformat": 4,
    "nbformat_minor": 2
}
